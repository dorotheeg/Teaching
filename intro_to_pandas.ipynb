{
  "nbformat": 4,
  "nbformat_minor": 0,
  "metadata": {
    "colab": {
      "name": "intro_to_pandas.ipynb",
      "provenance": []
    },
    "kernelspec": {
      "name": "python3",
      "display_name": "Python 3"
    }
  },
  "cells": [
    {
      "cell_type": "markdown",
      "metadata": {
        "id": "HOWFVafPJtGk",
        "colab_type": "text"
      },
      "source": [
        "# Introduction to Pandas"
      ]
    },
    {
      "cell_type": "code",
      "metadata": {
        "id": "zjfYF7mpJqlv",
        "colab_type": "code",
        "colab": {}
      },
      "source": [
        "import pandas as pd"
      ],
      "execution_count": null,
      "outputs": []
    },
    {
      "cell_type": "markdown",
      "metadata": {
        "id": "WGhDbIcGKDUo",
        "colab_type": "text"
      },
      "source": [
        "This is how you import data using Pandas"
      ]
    },
    {
      "cell_type": "code",
      "metadata": {
        "id": "3b6Jvk5_KGVc",
        "colab_type": "code",
        "colab": {}
      },
      "source": [
        "df = pd.read_csv('top2018.csv')"
      ],
      "execution_count": null,
      "outputs": []
    },
    {
      "cell_type": "markdown",
      "metadata": {
        "id": "Aiv-QphWNb5v",
        "colab_type": "text"
      },
      "source": [
        "#Exploring DataFrames"
      ]
    },
    {
      "cell_type": "code",
      "metadata": {
        "id": "CJZjuXrGMgaq",
        "colab_type": "code",
        "colab": {}
      },
      "source": [
        "df.head()"
      ],
      "execution_count": null,
      "outputs": []
    },
    {
      "cell_type": "markdown",
      "metadata": {
        "id": "9S-af3EmRKoS",
        "colab_type": "text"
      },
      "source": [
        "#Selecting Columns"
      ]
    },
    {
      "cell_type": "code",
      "metadata": {
        "id": "EMvU3cHCRGOF",
        "colab_type": "code",
        "colab": {}
      },
      "source": [
        "df['name']"
      ],
      "execution_count": null,
      "outputs": []
    },
    {
      "cell_type": "code",
      "metadata": {
        "id": "LEQnHJC5Ry2X",
        "colab_type": "code",
        "colab": {}
      },
      "source": [
        "df[['name', 'artists']]"
      ],
      "execution_count": null,
      "outputs": []
    },
    {
      "cell_type": "markdown",
      "metadata": {
        "id": "CHsoz7lsS6Fd",
        "colab_type": "text"
      },
      "source": [
        "#Renaming Columns"
      ]
    },
    {
      "cell_type": "code",
      "metadata": {
        "id": "6ZTX46VUS7z4",
        "colab_type": "code",
        "colab": {}
      },
      "source": [
        "df.rename(columns={\"artists\":\"artist\"}, inplace=True)\n",
        "df.head()"
      ],
      "execution_count": null,
      "outputs": []
    },
    {
      "cell_type": "code",
      "metadata": {
        "id": "famzh5ziTw7Z",
        "colab_type": "code",
        "colab": {}
      },
      "source": [
        "df.describe()"
      ],
      "execution_count": null,
      "outputs": []
    },
    {
      "cell_type": "markdown",
      "metadata": {
        "id": "Jp9RdpSIaS3_",
        "colab_type": "text"
      },
      "source": [
        "#Sorting Data"
      ]
    },
    {
      "cell_type": "code",
      "metadata": {
        "id": "1yD4tCHmaUFP",
        "colab_type": "code",
        "colab": {}
      },
      "source": [
        "df.sort_values(\"danceability\", ascending = False).head()"
      ],
      "execution_count": null,
      "outputs": []
    },
    {
      "cell_type": "code",
      "metadata": {
        "id": "zYg5vaqSdGJ0",
        "colab_type": "code",
        "colab": {}
      },
      "source": [
        "df.sort_values('danceability', ascending = False).to_csv('most_danceable.csv')"
      ],
      "execution_count": null,
      "outputs": []
    },
    {
      "cell_type": "markdown",
      "metadata": {
        "id": "_HNh9b_zdbG6",
        "colab_type": "text"
      },
      "source": [
        "#Running Functions on Columns\n",
        "\n",
        "Functions:\n",
        ".mean\n",
        ".min()\n",
        ".max()\n",
        ".std()\n",
        ".count()\n",
        ".round()\n"
      ]
    },
    {
      "cell_type": "code",
      "metadata": {
        "id": "WgL41SDsdaW7",
        "colab_type": "code",
        "colab": {}
      },
      "source": [
        "df['artist'].str.lower()"
      ],
      "execution_count": null,
      "outputs": []
    },
    {
      "cell_type": "code",
      "metadata": {
        "id": "U0zdyyD1eYIS",
        "colab_type": "code",
        "colab": {}
      },
      "source": [
        "def reformat(x):\n",
        "  return x * 100"
      ],
      "execution_count": null,
      "outputs": []
    },
    {
      "cell_type": "code",
      "metadata": {
        "id": "hZ6wFt9Rd_PN",
        "colab_type": "code",
        "colab": {}
      },
      "source": [
        "df['liveness'].apply(reformat)"
      ],
      "execution_count": null,
      "outputs": []
    },
    {
      "cell_type": "markdown",
      "metadata": {
        "id": "QWiDqUpKeyGp",
        "colab_type": "text"
      },
      "source": [
        "#Adding and Removing Columns"
      ]
    },
    {
      "cell_type": "code",
      "metadata": {
        "id": "_MREaZ-9e0c8",
        "colab_type": "code",
        "colab": {}
      },
      "source": [
        "df['mood_lifter'] = (df['danceability'] + df['energy']) / 10\n",
        "df.head()"
      ],
      "execution_count": null,
      "outputs": []
    },
    {
      "cell_type": "code",
      "metadata": {
        "id": "6tKFuQEvfqWI",
        "colab_type": "code",
        "colab": {}
      },
      "source": [
        "#df.drop(columns=['mood_lifter'], inplace=True)\n",
        "df.head()"
      ],
      "execution_count": null,
      "outputs": []
    },
    {
      "cell_type": "markdown",
      "metadata": {
        "id": "XiiBXmZ_gEO5",
        "colab_type": "text"
      },
      "source": [
        "#Selecting Rows"
      ]
    },
    {
      "cell_type": "code",
      "metadata": {
        "id": "pGYqMs21gFMy",
        "colab_type": "code",
        "colab": {}
      },
      "source": [
        "df = df.rename(columns={'rank' : 'sp_rank'}) \n",
        "df[(df.duration_ms >= 200000) | (df.sp_rank < 50)]"
      ],
      "execution_count": null,
      "outputs": []
    },
    {
      "cell_type": "code",
      "metadata": {
        "id": "jcKex9FZih_3",
        "colab_type": "code",
        "colab": {}
      },
      "source": [
        "df.sort_values(\"artist\").head()"
      ],
      "execution_count": null,
      "outputs": []
    },
    {
      "cell_type": "code",
      "metadata": {
        "id": "k5t643iAi2Qk",
        "colab_type": "code",
        "colab": {}
      },
      "source": [
        "df[df.name.str.contains(\"love\")]\n"
      ],
      "execution_count": null,
      "outputs": []
    },
    {
      "cell_type": "code",
      "metadata": {
        "id": "3cfKCf2Djrkm",
        "colab_type": "code",
        "colab": {}
      },
      "source": [
        "#df[df.danceability == df.danceability.max()]\n",
        "df.rename(columns={\"rank\":\"sp_rank\"}, inplace=True)\n",
        "df2 = df[['danceability', 'energy', 'speechiness']]\n",
        "\n",
        "df2.plot(figsize=(18,5))\n"
      ],
      "execution_count": null,
      "outputs": []
    },
    {
      "cell_type": "code",
      "metadata": {
        "id": "fOyNPYp2sw5a",
        "colab_type": "code",
        "colab": {
          "base_uri": "https://localhost:8080/",
          "height": 317
        },
        "outputId": "199c3c1d-569a-4199-8a48-5e74f4a1abb1"
      },
      "source": [
        "df3 = df[(df.sp_rank > 50)]\n",
        "df3.describe()"
      ],
      "execution_count": null,
      "outputs": [
        {
          "output_type": "execute_result",
          "data": {
            "text/html": [
              "<div>\n",
              "<style scoped>\n",
              "    .dataframe tbody tr th:only-of-type {\n",
              "        vertical-align: middle;\n",
              "    }\n",
              "\n",
              "    .dataframe tbody tr th {\n",
              "        vertical-align: top;\n",
              "    }\n",
              "\n",
              "    .dataframe thead th {\n",
              "        text-align: right;\n",
              "    }\n",
              "</style>\n",
              "<table border=\"1\" class=\"dataframe\">\n",
              "  <thead>\n",
              "    <tr style=\"text-align: right;\">\n",
              "      <th></th>\n",
              "      <th>danceability</th>\n",
              "      <th>energy</th>\n",
              "      <th>key</th>\n",
              "      <th>loudness</th>\n",
              "      <th>mode</th>\n",
              "      <th>speechiness</th>\n",
              "      <th>acousticness</th>\n",
              "      <th>instrumentalness</th>\n",
              "      <th>liveness</th>\n",
              "      <th>valence</th>\n",
              "      <th>tempo</th>\n",
              "      <th>duration_ms</th>\n",
              "      <th>time_signature</th>\n",
              "      <th>sp_rank</th>\n",
              "    </tr>\n",
              "  </thead>\n",
              "  <tbody>\n",
              "    <tr>\n",
              "      <th>count</th>\n",
              "      <td>50.000000</td>\n",
              "      <td>50.000000</td>\n",
              "      <td>50.000000</td>\n",
              "      <td>50.000000</td>\n",
              "      <td>50.000000</td>\n",
              "      <td>50.000000</td>\n",
              "      <td>50.000000</td>\n",
              "      <td>50.000000</td>\n",
              "      <td>50.000000</td>\n",
              "      <td>50.000000</td>\n",
              "      <td>50.000000</td>\n",
              "      <td>50.000000</td>\n",
              "      <td>50.000000</td>\n",
              "      <td>50.00000</td>\n",
              "    </tr>\n",
              "    <tr>\n",
              "      <th>mean</th>\n",
              "      <td>0.718880</td>\n",
              "      <td>0.642460</td>\n",
              "      <td>4.940000</td>\n",
              "      <td>-5.912840</td>\n",
              "      <td>0.620000</td>\n",
              "      <td>0.118842</td>\n",
              "      <td>0.199227</td>\n",
              "      <td>0.000283</td>\n",
              "      <td>0.127766</td>\n",
              "      <td>0.493794</td>\n",
              "      <td>123.606420</td>\n",
              "      <td>201351.100000</td>\n",
              "      <td>4.000000</td>\n",
              "      <td>75.50000</td>\n",
              "    </tr>\n",
              "    <tr>\n",
              "      <th>std</th>\n",
              "      <td>0.151652</td>\n",
              "      <td>0.151062</td>\n",
              "      <td>3.666784</td>\n",
              "      <td>1.807846</td>\n",
              "      <td>0.490314</td>\n",
              "      <td>0.106904</td>\n",
              "      <td>0.237991</td>\n",
              "      <td>0.001836</td>\n",
              "      <td>0.063080</td>\n",
              "      <td>0.206950</td>\n",
              "      <td>30.961385</td>\n",
              "      <td>32378.664336</td>\n",
              "      <td>0.202031</td>\n",
              "      <td>14.57738</td>\n",
              "    </tr>\n",
              "    <tr>\n",
              "      <th>min</th>\n",
              "      <td>0.258000</td>\n",
              "      <td>0.296000</td>\n",
              "      <td>0.000000</td>\n",
              "      <td>-10.109000</td>\n",
              "      <td>0.000000</td>\n",
              "      <td>0.026300</td>\n",
              "      <td>0.000282</td>\n",
              "      <td>0.000000</td>\n",
              "      <td>0.042400</td>\n",
              "      <td>0.096700</td>\n",
              "      <td>79.028000</td>\n",
              "      <td>95467.000000</td>\n",
              "      <td>3.000000</td>\n",
              "      <td>51.00000</td>\n",
              "    </tr>\n",
              "    <tr>\n",
              "      <th>25%</th>\n",
              "      <td>0.644250</td>\n",
              "      <td>0.546750</td>\n",
              "      <td>1.250000</td>\n",
              "      <td>-7.050750</td>\n",
              "      <td>0.000000</td>\n",
              "      <td>0.045300</td>\n",
              "      <td>0.043175</td>\n",
              "      <td>0.000000</td>\n",
              "      <td>0.092275</td>\n",
              "      <td>0.361000</td>\n",
              "      <td>95.994250</td>\n",
              "      <td>183210.250000</td>\n",
              "      <td>4.000000</td>\n",
              "      <td>63.25000</td>\n",
              "    </tr>\n",
              "    <tr>\n",
              "      <th>50%</th>\n",
              "      <td>0.743500</td>\n",
              "      <td>0.670500</td>\n",
              "      <td>4.500000</td>\n",
              "      <td>-5.967500</td>\n",
              "      <td>1.000000</td>\n",
              "      <td>0.074350</td>\n",
              "      <td>0.094500</td>\n",
              "      <td>0.000001</td>\n",
              "      <td>0.108000</td>\n",
              "      <td>0.486500</td>\n",
              "      <td>122.514000</td>\n",
              "      <td>200017.500000</td>\n",
              "      <td>4.000000</td>\n",
              "      <td>75.50000</td>\n",
              "    </tr>\n",
              "    <tr>\n",
              "      <th>75%</th>\n",
              "      <td>0.800500</td>\n",
              "      <td>0.763250</td>\n",
              "      <td>8.000000</td>\n",
              "      <td>-4.461750</td>\n",
              "      <td>1.000000</td>\n",
              "      <td>0.150500</td>\n",
              "      <td>0.237500</td>\n",
              "      <td>0.000027</td>\n",
              "      <td>0.153500</td>\n",
              "      <td>0.651000</td>\n",
              "      <td>141.484500</td>\n",
              "      <td>217238.000000</td>\n",
              "      <td>4.000000</td>\n",
              "      <td>87.75000</td>\n",
              "    </tr>\n",
              "    <tr>\n",
              "      <th>max</th>\n",
              "      <td>0.964000</td>\n",
              "      <td>0.895000</td>\n",
              "      <td>11.000000</td>\n",
              "      <td>-2.749000</td>\n",
              "      <td>1.000000</td>\n",
              "      <td>0.530000</td>\n",
              "      <td>0.934000</td>\n",
              "      <td>0.013000</td>\n",
              "      <td>0.325000</td>\n",
              "      <td>0.844000</td>\n",
              "      <td>198.075000</td>\n",
              "      <td>276147.000000</td>\n",
              "      <td>5.000000</td>\n",
              "      <td>100.00000</td>\n",
              "    </tr>\n",
              "  </tbody>\n",
              "</table>\n",
              "</div>"
            ],
            "text/plain": [
              "       danceability     energy  ...  time_signature    sp_rank\n",
              "count     50.000000  50.000000  ...       50.000000   50.00000\n",
              "mean       0.718880   0.642460  ...        4.000000   75.50000\n",
              "std        0.151652   0.151062  ...        0.202031   14.57738\n",
              "min        0.258000   0.296000  ...        3.000000   51.00000\n",
              "25%        0.644250   0.546750  ...        4.000000   63.25000\n",
              "50%        0.743500   0.670500  ...        4.000000   75.50000\n",
              "75%        0.800500   0.763250  ...        4.000000   87.75000\n",
              "max        0.964000   0.895000  ...        5.000000  100.00000\n",
              "\n",
              "[8 rows x 14 columns]"
            ]
          },
          "metadata": {
            "tags": []
          },
          "execution_count": 228
        }
      ]
    },
    {
      "cell_type": "code",
      "metadata": {
        "id": "rxr1wbFSuuCB",
        "colab_type": "code",
        "colab": {
          "base_uri": "https://localhost:8080/",
          "height": 327
        },
        "outputId": "6cfe47a5-2a24-4798-9e70-b80e027bc83f"
      },
      "source": [
        ""
      ],
      "execution_count": null,
      "outputs": [
        {
          "output_type": "error",
          "ename": "KeyError",
          "evalue": "ignored",
          "traceback": [
            "\u001b[0;31m---------------------------------------------------------------------------\u001b[0m",
            "\u001b[0;31mKeyError\u001b[0m                                  Traceback (most recent call last)",
            "\u001b[0;32m<ipython-input-233-dd66ae36c315>\u001b[0m in \u001b[0;36m<module>\u001b[0;34m()\u001b[0m\n\u001b[0;32m----> 1\u001b[0;31m \u001b[0mdf\u001b[0m\u001b[0;34m[\u001b[0m\u001b[0mdf\u001b[0m\u001b[0;34m.\u001b[0m\u001b[0martists\u001b[0m\u001b[0;34m]\u001b[0m\u001b[0;34m\u001b[0m\u001b[0;34m\u001b[0m\u001b[0m\n\u001b[0m",
            "\u001b[0;32m/usr/local/lib/python3.6/dist-packages/pandas/core/frame.py\u001b[0m in \u001b[0;36m__getitem__\u001b[0;34m(self, key)\u001b[0m\n\u001b[1;32m   2804\u001b[0m             \u001b[0;32mif\u001b[0m \u001b[0mis_iterator\u001b[0m\u001b[0;34m(\u001b[0m\u001b[0mkey\u001b[0m\u001b[0;34m)\u001b[0m\u001b[0;34m:\u001b[0m\u001b[0;34m\u001b[0m\u001b[0;34m\u001b[0m\u001b[0m\n\u001b[1;32m   2805\u001b[0m                 \u001b[0mkey\u001b[0m \u001b[0;34m=\u001b[0m \u001b[0mlist\u001b[0m\u001b[0;34m(\u001b[0m\u001b[0mkey\u001b[0m\u001b[0;34m)\u001b[0m\u001b[0;34m\u001b[0m\u001b[0;34m\u001b[0m\u001b[0m\n\u001b[0;32m-> 2806\u001b[0;31m             \u001b[0mindexer\u001b[0m \u001b[0;34m=\u001b[0m \u001b[0mself\u001b[0m\u001b[0;34m.\u001b[0m\u001b[0mloc\u001b[0m\u001b[0;34m.\u001b[0m\u001b[0m_get_listlike_indexer\u001b[0m\u001b[0;34m(\u001b[0m\u001b[0mkey\u001b[0m\u001b[0;34m,\u001b[0m \u001b[0maxis\u001b[0m\u001b[0;34m=\u001b[0m\u001b[0;36m1\u001b[0m\u001b[0;34m,\u001b[0m \u001b[0mraise_missing\u001b[0m\u001b[0;34m=\u001b[0m\u001b[0;32mTrue\u001b[0m\u001b[0;34m)\u001b[0m\u001b[0;34m[\u001b[0m\u001b[0;36m1\u001b[0m\u001b[0;34m]\u001b[0m\u001b[0;34m\u001b[0m\u001b[0;34m\u001b[0m\u001b[0m\n\u001b[0m\u001b[1;32m   2807\u001b[0m \u001b[0;34m\u001b[0m\u001b[0m\n\u001b[1;32m   2808\u001b[0m         \u001b[0;31m# take() does not accept boolean indexers\u001b[0m\u001b[0;34m\u001b[0m\u001b[0;34m\u001b[0m\u001b[0;34m\u001b[0m\u001b[0m\n",
            "\u001b[0;32m/usr/local/lib/python3.6/dist-packages/pandas/core/indexing.py\u001b[0m in \u001b[0;36m_get_listlike_indexer\u001b[0;34m(self, key, axis, raise_missing)\u001b[0m\n\u001b[1;32m   1551\u001b[0m \u001b[0;34m\u001b[0m\u001b[0m\n\u001b[1;32m   1552\u001b[0m         self._validate_read_indexer(\n\u001b[0;32m-> 1553\u001b[0;31m             \u001b[0mkeyarr\u001b[0m\u001b[0;34m,\u001b[0m \u001b[0mindexer\u001b[0m\u001b[0;34m,\u001b[0m \u001b[0mo\u001b[0m\u001b[0;34m.\u001b[0m\u001b[0m_get_axis_number\u001b[0m\u001b[0;34m(\u001b[0m\u001b[0maxis\u001b[0m\u001b[0;34m)\u001b[0m\u001b[0;34m,\u001b[0m \u001b[0mraise_missing\u001b[0m\u001b[0;34m=\u001b[0m\u001b[0mraise_missing\u001b[0m\u001b[0;34m\u001b[0m\u001b[0;34m\u001b[0m\u001b[0m\n\u001b[0m\u001b[1;32m   1554\u001b[0m         )\n\u001b[1;32m   1555\u001b[0m         \u001b[0;32mreturn\u001b[0m \u001b[0mkeyarr\u001b[0m\u001b[0;34m,\u001b[0m \u001b[0mindexer\u001b[0m\u001b[0;34m\u001b[0m\u001b[0;34m\u001b[0m\u001b[0m\n",
            "\u001b[0;32m/usr/local/lib/python3.6/dist-packages/pandas/core/indexing.py\u001b[0m in \u001b[0;36m_validate_read_indexer\u001b[0;34m(self, key, indexer, axis, raise_missing)\u001b[0m\n\u001b[1;32m   1638\u001b[0m             \u001b[0;32mif\u001b[0m \u001b[0mmissing\u001b[0m \u001b[0;34m==\u001b[0m \u001b[0mlen\u001b[0m\u001b[0;34m(\u001b[0m\u001b[0mindexer\u001b[0m\u001b[0;34m)\u001b[0m\u001b[0;34m:\u001b[0m\u001b[0;34m\u001b[0m\u001b[0;34m\u001b[0m\u001b[0m\n\u001b[1;32m   1639\u001b[0m                 \u001b[0maxis_name\u001b[0m \u001b[0;34m=\u001b[0m \u001b[0mself\u001b[0m\u001b[0;34m.\u001b[0m\u001b[0mobj\u001b[0m\u001b[0;34m.\u001b[0m\u001b[0m_get_axis_name\u001b[0m\u001b[0;34m(\u001b[0m\u001b[0maxis\u001b[0m\u001b[0;34m)\u001b[0m\u001b[0;34m\u001b[0m\u001b[0;34m\u001b[0m\u001b[0m\n\u001b[0;32m-> 1640\u001b[0;31m                 \u001b[0;32mraise\u001b[0m \u001b[0mKeyError\u001b[0m\u001b[0;34m(\u001b[0m\u001b[0;34mf\"None of [{key}] are in the [{axis_name}]\"\u001b[0m\u001b[0;34m)\u001b[0m\u001b[0;34m\u001b[0m\u001b[0;34m\u001b[0m\u001b[0m\n\u001b[0m\u001b[1;32m   1641\u001b[0m \u001b[0;34m\u001b[0m\u001b[0m\n\u001b[1;32m   1642\u001b[0m             \u001b[0;31m# We (temporarily) allow for some missing keys with .loc, except in\u001b[0m\u001b[0;34m\u001b[0m\u001b[0;34m\u001b[0m\u001b[0;34m\u001b[0m\u001b[0m\n",
            "\u001b[0;31mKeyError\u001b[0m: \"None of [Index(['Drake', 'XXXTENTACION', 'Post Malone', 'Post Malone', 'Drake',\\n       'Post Malone', 'Cardi B', 'Calvin Harris', 'Dua Lipa', 'Marshmello',\\n       'Camila Cabello', 'Juice WRLD', 'Drake', 'Maroon 5', 'Zedd',\\n       'Kendrick Lamar', 'Ariana Grande', 'Nicky Jam', 'XXXTENTACION',\\n       'BlocBoy JB', 'Rudimental', 'Nio Garcia', 'Bazzi',\\n       '5 Seconds of Summer', 'Dua Lipa', 'Ed Sheeran', 'Khalid', 'Bebe Rexha',\\n       'XXXTENTACION', 'Ed Sheeran', 'Tyga', 'Clean Bandit', 'Post Malone',\\n       'Dennis Lloyd', 'Luis Fonsi', 'benny blanco', 'Camila Cabello',\\n       'Selena Gomez', 'XXXTENTACION', 'Dynoro', 'Eminem', 'Daddy Yankee',\\n       'Travis Scott', 'Imagine Dragons', 'Reik', 'Ti?sto', 'Bruno Mars',\\n       'Selena Gomez', 'NF', 'The Weeknd', 'Offset', 'Marshmello', 'Sam Smith',\\n       'Lil Dicky', 'Imagine Dragons', '6ix9ine', 'Jonas Blue', 'Loud Luxury',\\n       'Lil Uzi Vert', 'Becky G', 'Anne-Marie', 'Drake', 'XXXTENTACION',\\n       'Shawn Mendes', 'Marshmello', 'Ariana Grande', 'Piso 21',\\n       'David Guetta', 'Maroon 5', 'DJ Snake', 'Hailee Steinfeld',\\n       'Portugal. The Man', 'The Weeknd', 'Migos', 'G-Eazy', 'Post Malone',\\n       'Post Malone', 'Sofia Reyes', 'Natti Natasha', 'Rich The Kid',\\n       'Billie Eilish', 'Migos', 'Kendrick Lamar', 'Ozuna', 'Ed Sheeran',\\n       'Maluma', 'Khalid', 'Ozuna', 'Anitta', 'Wolfine', 'Calvin Harris',\\n       'Lil Baby', 'Lauv', 'Keala Settle', 'XXXTENTACION', 'Zac Efron..."
          ]
        }
      ]
    }
  ]
}