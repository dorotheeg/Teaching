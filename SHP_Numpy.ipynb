{
  "nbformat": 4,
  "nbformat_minor": 0,
  "metadata": {
    "colab": {
      "name": "SHP Numpy.ipynb",
      "provenance": [],
      "collapsed_sections": []
    },
    "kernelspec": {
      "name": "python3",
      "display_name": "Python 3"
    }
  },
  "cells": [
    {
      "cell_type": "markdown",
      "metadata": {
        "id": "m5r_-SgMyARV",
        "colab_type": "text"
      },
      "source": [
        "# Section 1: Downloading numpy\n",
        "\n",
        "In collab all you need it :\n",
        "\n",
        "#### import numpy\n",
        "\n",
        "In terminal, or other mediums, you need to download it with :\n",
        "\n",
        "####  pip install numpy\n",
        "\n",
        "The convention is to rename it as np, that way each time you call it, you dont't need to write out numpy, you can just abbreviate with np"
      ]
    },
    {
      "cell_type": "code",
      "metadata": {
        "id": "yqsRJB1wya9N",
        "colab_type": "code",
        "colab": {}
      },
      "source": [
        "import numpy as np"
      ],
      "execution_count": null,
      "outputs": []
    },
    {
      "cell_type": "markdown",
      "metadata": {
        "id": "SY0efOrGy1gz",
        "colab_type": "text"
      },
      "source": [
        "# Section 2: The NP Array\n",
        "\n",
        "Call it by np.array(), you can cast with this just like we have been with lists and sets before.\n",
        "\n",
        "np.arrays are special in that they can be ore than 1 dimention.\n",
        "\n",
        "They have their own sets of calls"
      ]
    },
    {
      "cell_type": "code",
      "metadata": {
        "id": "hdkmY8qIzcwn",
        "colab_type": "code",
        "colab": {
          "base_uri": "https://localhost:8080/",
          "height": 102
        },
        "outputId": "d33155b4-47bc-421e-c2ed-a0190b32863a"
      },
      "source": [
        "#Standard Array\n",
        "\n",
        "# arr = np.array([1, 2, 3, 4, 5])\n",
        "\n",
        "# print(arr)\n",
        "\n",
        "\n",
        "#DATA TYPES\n",
        "\n",
        "# arr = np.array(['apple', 'banana', 'cherry'])\n",
        "\n",
        "# print(arr.dtype)\n",
        "\n",
        "#https://numpy.org/doc/1.18/reference/generated/numpy.dtype.html\n",
        "\n",
        "#2\n",
        "\n",
        "# arr = np.array([1, 2, 3, 4], dtype='S')\n",
        "\n",
        "# print(arr)\n",
        "# print(arr.dtype)\n",
        "\n",
        "\n",
        "\n",
        "#INDEXING\n",
        "\n",
        "# arr = np.array([1, 2, 3, 4])\n",
        "\n",
        "# print(arr[1])\n",
        "\n",
        "# arr[0] = 0\n",
        "\n",
        "# print(arr)\n",
        "\n",
        "\n",
        "#SLICING\n",
        "\n",
        "# arr = np.array([1, 2, 3, 4, 5, 6, 7])\n",
        "\n",
        "# print(arr[1:5])\n",
        "\n",
        "\n",
        "#FILLING\n",
        "\n",
        "# arr = np.arange(2,5)\n",
        "\n",
        "# print(arr)\n",
        "\n",
        "\n",
        "#DIMENSIONS\n",
        "\n",
        "a = np.array(42)\n",
        "b = np.array([1, 2, 3, 4, 5])\n",
        "c = np.array([[1, 2, 3], [4, 5, 6]])\n",
        "d = np.array([[[1, 2, 3], [4, 5, 6]], [[1, 2, 3], [4, 5, 6]]])\n",
        "\n",
        "print(len(c))\n",
        "\n",
        "print(a.ndim)\n",
        "print(b.ndim)\n",
        "print(c.ndim)\n",
        "print(d.ndim)\n",
        "\n",
        "\n",
        "\n",
        "\n",
        "#INDEXING 2D Array\n",
        "\n",
        "# arr = np.array([[1,2,3,4,5], [6,7,8,9,10]])\n",
        "\n",
        "# print('2nd element on 1st dim: ', arr[0, 1])\n",
        "\n",
        "\n",
        "#RESHAPING\n",
        "\n",
        "# arr = np.array([1, 2, 3, 4, 5, 6, 7, 8, 9, 10, 11, 12])\n",
        "\n",
        "# newarr = arr.reshape(4, 4)\n",
        "\n",
        "# print(newarr)"
      ],
      "execution_count": null,
      "outputs": [
        {
          "output_type": "stream",
          "text": [
            "2\n",
            "0\n",
            "1\n",
            "2\n",
            "3\n"
          ],
          "name": "stdout"
        }
      ]
    },
    {
      "cell_type": "code",
      "metadata": {
        "id": "PR87P0M30vL9",
        "colab_type": "code",
        "colab": {
          "base_uri": "https://localhost:8080/",
          "height": 34
        },
        "outputId": "963cdebc-5e4b-4128-89dd-fadfa4f6529f"
      },
      "source": [
        "#INSERTING\n",
        "\n",
        "# arr = np.array([1,2,3,4])\n",
        "# arr = np.insert(arr, 2, 66)\n",
        "\n",
        "# print(arr)\n",
        "\n",
        "\n",
        "#ITERATING\n",
        "\n",
        "# arr = np.array([1, 2, 3]) #SAME AS LIST!!\n",
        "\n",
        "# for x in arr:\n",
        "#   print(x)\n",
        "\n",
        "\n",
        "# arr = np.array([[1, 2, 3], [4, 5, 6]])\n",
        "\n",
        "# for x in arr:\n",
        "#   print(x)\n",
        "\n",
        "\n",
        "# arr = np.array([[1, 2, 3], [4, 5, 6]])\n",
        "\n",
        "# for x in arr:\n",
        "#   for y in x:\n",
        "#     print(y)\n",
        "\n",
        "\n",
        "\n",
        "#JOING ARRAYS\n",
        "\n",
        "# arr1 = np.array([1, 2, 3])\n",
        "\n",
        "# arr2 = np.array([4, 5, 6])\n",
        "\n",
        "# arr = np.concatenate((arr1, arr2))\n",
        "\n",
        "# print(arr)\n",
        "\n",
        "\n",
        "#SEARCH\n",
        "\n",
        "# arr = np.array([1, 2, 3, 4, 5, 4, 4])\n",
        "\n",
        "# x = np.where(arr == 4)\n",
        "\n",
        "# print(x)\n",
        "\n",
        "\n",
        "#NP ZEROS\n",
        "\n",
        "arr1 = np.zeros(5)\n",
        "\n",
        "arr = np.insert(arr1, 1, 7)\n",
        "\n",
        "# arr2 = np.zeros((3, 2))\n",
        "\n",
        "print(arr)\n",
        "# print(arr2)"
      ],
      "execution_count": null,
      "outputs": [
        {
          "output_type": "stream",
          "text": [
            "[0. 7. 0. 0. 0. 0.]\n"
          ],
          "name": "stdout"
        }
      ]
    },
    {
      "cell_type": "markdown",
      "metadata": {
        "id": "N5tyasrixgls",
        "colab_type": "text"
      },
      "source": [
        "# Section 3: Matrix\n",
        "\n",
        "Since this is a linear algebra course, we'll be dealing a lot with 1-dimensional vectors and 2-dimensional matrices. The obvious way to represent these in code are 1-dim and 2-dim arrays.\n",
        "\n",
        "Let's look at representing the following vectors and matrices:\n",
        "\n",
        "$\\mathbf{u} = \\begin{bmatrix} 1 & 0 & 4 & 6 \\end{bmatrix}$\n",
        "\n",
        "$\\mathbf{v} =  \\begin{bmatrix} 1 \\\\ 0 \\\\ 4 \\\\ 6 \\end{bmatrix}$\n",
        "\n",
        "$\\mathbf{A} = \\begin{bmatrix} 4 & 6 & 2 & 0 \\\\ 3 & 7 & 2 & 9 \\\\ 0 & 1 & 4 & 2 \\\\ 9 & 3 & 5 & 6 \\end{bmatrix} $"
      ]
    },
    {
      "cell_type": "code",
      "metadata": {
        "id": "D90dNGBAxkN8",
        "colab_type": "code",
        "colab": {}
      },
      "source": [
        "u = [[1, 0, 4, 6]]\n",
        "v = [[1],\n",
        "     [0],\n",
        "     [4],\n",
        "     [6]]\n",
        "A = [[4, 6, 2, 0], \n",
        "     [3, 7, 2, 9],\n",
        "     [0, 1, 4, 2],\n",
        "     [9, 3, 5, 6]]"
      ],
      "execution_count": null,
      "outputs": []
    },
    {
      "cell_type": "markdown",
      "metadata": {
        "id": "6QjxG4TU5vfG",
        "colab_type": "text"
      },
      "source": [
        "### You do not need to nderstand the math here, but just to see what cool stuff numpy can do!\n",
        "\n",
        "Consider the following chemical equation, where iron(II) sulfide combusts with oxygen to form iron(III) oxide and sulfur dioxide gas:\n",
        "\n",
        "FeS + O$_2$ $\\rightarrow$ Fe$_2$O$_3$ + SO$_2$\n",
        "\n",
        "However, this equation needs to be balanced, as the number of each atom does not match between the left side and right side. For example, the left side has two oxygen atoms, while the right side has five."
      ]
    },
    {
      "cell_type": "code",
      "metadata": {
        "id": "my0t7xSL56f2",
        "colab_type": "code",
        "colab": {}
      },
      "source": [
        "\n",
        "# Define your matrix representation here as a numpy array:\n",
        "\n",
        "A = np.array([[0, 0, 1, 0],\n",
        "              [1, 0, -2, 0],\n",
        "              [1, 0, 0, -1],\n",
        "              [0, 2, -3, -2]])\n",
        "\n",
        "b = np.array([1, 0, 0, 0])\n",
        "\n"
      ],
      "execution_count": null,
      "outputs": []
    },
    {
      "cell_type": "code",
      "metadata": {
        "id": "QgNAgjDn5_NL",
        "colab_type": "code",
        "colab": {
          "base_uri": "https://localhost:8080/",
          "height": 34
        },
        "outputId": "1416fe48-1184-42c0-93a9-7a89945b019e"
      },
      "source": [
        "# BALANCE! \n",
        "\n",
        "def balance(A, b):\n",
        "    coeffs = np.linalg.solve(A,b)*2\n",
        "    return coeffs\n",
        "\n",
        "print(balance(A, b))\n"
      ],
      "execution_count": null,
      "outputs": [
        {
          "output_type": "stream",
          "text": [
            "[4. 7. 2. 4.]\n"
          ],
          "name": "stdout"
        }
      ]
    },
    {
      "cell_type": "markdown",
      "metadata": {
        "id": "dt3rull-6BYO",
        "colab_type": "text"
      },
      "source": [
        "Which produces:\n",
        "\n",
        "$4$FeS + $7$O$_2$ $\\rightarrow$ $2$Fe$_2$O$_3$ + $4$SO$_2$"
      ]
    },
    {
      "cell_type": "markdown",
      "metadata": {
        "id": "HbVObWzXyJTi",
        "colab_type": "text"
      },
      "source": [
        "## Further Applications\n",
        "\n",
        "Example of \"from\" import\n",
        "\n",
        "Again don't worry about the math"
      ]
    },
    {
      "cell_type": "code",
      "metadata": {
        "id": "uYUHaPKhyNdZ",
        "colab_type": "code",
        "colab": {
          "base_uri": "https://localhost:8080/",
          "height": 215
        },
        "outputId": "b8f967a9-3955-4b49-b5e8-d4c95b22e08f"
      },
      "source": [
        "from math import exp\n",
        "\n",
        "\n",
        "print(exp(3))\n",
        "\n"
      ],
      "execution_count": null,
      "outputs": [
        {
          "output_type": "stream",
          "text": [
            "20.085536923187668\n"
          ],
          "name": "stdout"
        },
        {
          "output_type": "error",
          "ename": "NameError",
          "evalue": "ignored",
          "traceback": [
            "\u001b[0;31m---------------------------------------------------------------------------\u001b[0m",
            "\u001b[0;31mNameError\u001b[0m                                 Traceback (most recent call last)",
            "\u001b[0;32m<ipython-input-33-555463ad07b2>\u001b[0m in \u001b[0;36m<module>\u001b[0;34m()\u001b[0m\n\u001b[1;32m      3\u001b[0m \u001b[0;34m\u001b[0m\u001b[0m\n\u001b[1;32m      4\u001b[0m \u001b[0mprint\u001b[0m\u001b[0;34m(\u001b[0m\u001b[0mexp\u001b[0m\u001b[0;34m(\u001b[0m\u001b[0;36m3\u001b[0m\u001b[0;34m)\u001b[0m\u001b[0;34m)\u001b[0m\u001b[0;34m\u001b[0m\u001b[0;34m\u001b[0m\u001b[0m\n\u001b[0;32m----> 5\u001b[0;31m \u001b[0mprint\u001b[0m\u001b[0;34m(\u001b[0m\u001b[0mpi\u001b[0m\u001b[0;34m)\u001b[0m\u001b[0;34m\u001b[0m\u001b[0;34m\u001b[0m\u001b[0m\n\u001b[0m",
            "\u001b[0;31mNameError\u001b[0m: name 'pi' is not defined"
          ]
        }
      ]
    },
    {
      "cell_type": "markdown",
      "metadata": {
        "id": "GuB8h7uO4pMi",
        "colab_type": "text"
      },
      "source": [
        "For more help\n",
        "\n",
        "Complete Numpy documentation:\n",
        "\n",
        "https://docs.scipy.org/doc/numpy/\n",
        "\n",
        "Stanford CS231n Python/Numpy Tutorial:\n",
        "\n",
        "http://cs231n.github.io/python-numpy-tutorial/"
      ]
    },
    {
      "cell_type": "markdown",
      "metadata": {
        "id": "h3vHdAVp600M",
        "colab_type": "text"
      },
      "source": [
        "## LABS\n",
        "\n",
        "1. Write a NumPy program to create an array of all the even integers from 30 to 70.\n",
        "\n",
        "2. Write a NumPy program to create an array of 10 zeros,10 ones, 10 fives.\n",
        "\n",
        "3. Write a NumPy program to create a 3x3 matrix/array with values ranging from 2 to 10.\n",
        "\n",
        "4. Write a NumPy program to create a 0 array of size 10 and update sixth value to 11\n",
        "\n"
      ]
    },
    {
      "cell_type": "markdown",
      "metadata": {
        "id": "kcSNfCyM8VGD",
        "colab_type": "text"
      },
      "source": [
        "## Solutions:"
      ]
    },
    {
      "cell_type": "code",
      "metadata": {
        "id": "dtHQXVrE7TEo",
        "colab_type": "code",
        "colab": {
          "base_uri": "https://localhost:8080/",
          "height": 51
        },
        "outputId": "50c2aadc-0393-4f51-e106-a8e1a734d26d"
      },
      "source": [
        "#1\n",
        "array = np.arange(30,71,2)\n",
        "print(\"Array of all the even integers from 30 to 70\")\n",
        "print(array) \n"
      ],
      "execution_count": null,
      "outputs": [
        {
          "output_type": "stream",
          "text": [
            "Array of all the even integers from 30 to 70\n",
            "[30 32 34 36 38 40 42 44 46 48 50 52 54 56 58 60 62 64 66 68 70]\n"
          ],
          "name": "stdout"
        }
      ]
    },
    {
      "cell_type": "code",
      "metadata": {
        "id": "pnu3cU-X7TAx",
        "colab_type": "code",
        "colab": {
          "base_uri": "https://localhost:8080/",
          "height": 119
        },
        "outputId": "04549c51-7d9d-4516-d87b-8f30331edac8"
      },
      "source": [
        "#2\n",
        "array=np.zeros(10)\n",
        "print(\"An array of 10 zeros:\")\n",
        "print(array)\n",
        "array=np.ones(10)\n",
        "print(\"An array of 10 ones:\")\n",
        "print(array)\n",
        "array=np.ones(10)*5\n",
        "print(\"An array of 10 fives:\")\n",
        "print(array)"
      ],
      "execution_count": null,
      "outputs": [
        {
          "output_type": "stream",
          "text": [
            "An array of 10 zeros:\n",
            "[0. 0. 0. 0. 0. 0. 0. 0. 0. 0.]\n",
            "An array of 10 ones:\n",
            "[1. 1. 1. 1. 1. 1. 1. 1. 1. 1.]\n",
            "An array of 10 fives:\n",
            "[5. 5. 5. 5. 5. 5. 5. 5. 5. 5.]\n"
          ],
          "name": "stdout"
        }
      ]
    },
    {
      "cell_type": "code",
      "metadata": {
        "id": "-_UxE1gN7S4Z",
        "colab_type": "code",
        "colab": {
          "base_uri": "https://localhost:8080/",
          "height": 68
        },
        "outputId": "f18e13b0-4531-40fc-e765-5f1e7ef847a1"
      },
      "source": [
        "#3\n",
        "x =  np.arange(2, 11).reshape(3,3)\n",
        "print(x)\n"
      ],
      "execution_count": null,
      "outputs": [
        {
          "output_type": "stream",
          "text": [
            "[[ 2  3  4]\n",
            " [ 5  6  7]\n",
            " [ 8  9 10]]\n"
          ],
          "name": "stdout"
        }
      ]
    },
    {
      "cell_type": "code",
      "metadata": {
        "id": "MRkLP5gd7StY",
        "colab_type": "code",
        "colab": {
          "base_uri": "https://localhost:8080/",
          "height": 68
        },
        "outputId": "53697fbf-27c8-4d0b-bd28-c9f3e2007ee1"
      },
      "source": [
        "#4\n",
        "x = np.zeros(10)\n",
        "print(x)\n",
        "print(\"Update sixth value to 11\")\n",
        "x[6] = 11\n",
        "print(x)"
      ],
      "execution_count": null,
      "outputs": [
        {
          "output_type": "stream",
          "text": [
            "[0. 0. 0. 0. 0. 0. 0. 0. 0. 0.]\n",
            "Update sixth value to 11\n",
            "[ 0.  0.  0.  0.  0.  0. 11.  0.  0.  0.]\n"
          ],
          "name": "stdout"
        }
      ]
    },
    {
      "cell_type": "code",
      "metadata": {
        "id": "GquRPW_NCAdg",
        "colab_type": "code",
        "colab": {}
      },
      "source": [
        ""
      ],
      "execution_count": null,
      "outputs": []
    },
    {
      "cell_type": "code",
      "metadata": {
        "id": "Y_WpABcBCA34",
        "colab_type": "code",
        "colab": {}
      },
      "source": [
        ""
      ],
      "execution_count": null,
      "outputs": []
    },
    {
      "cell_type": "code",
      "metadata": {
        "id": "XpFZOvpqCBD9",
        "colab_type": "code",
        "colab": {}
      },
      "source": [
        ""
      ],
      "execution_count": null,
      "outputs": []
    },
    {
      "cell_type": "code",
      "metadata": {
        "id": "5vFQs9CPCBCn",
        "colab_type": "code",
        "colab": {}
      },
      "source": [
        ""
      ],
      "execution_count": null,
      "outputs": []
    },
    {
      "cell_type": "code",
      "metadata": {
        "id": "G_IvJ_GoCBBO",
        "colab_type": "code",
        "colab": {}
      },
      "source": [
        "import numpy as np"
      ],
      "execution_count": null,
      "outputs": []
    },
    {
      "cell_type": "code",
      "metadata": {
        "id": "5LwJ9zbeCA91",
        "colab_type": "code",
        "colab": {
          "base_uri": "https://localhost:8080/",
          "height": 158
        },
        "outputId": "70755ba0-0efa-4ac9-82f8-c085a8b529ed"
      },
      "source": [
        "goal = [0,1,2,3,4,5,6,7,8]\n",
        "actual = [7,2,4,5,0,6,8,3,1]\n",
        "\n",
        "g2 = np.array(goal).reshape(3,3)\n",
        "a2 = np.array(actual).reshape(3,3)\n",
        "tots = 0 \n",
        "\n",
        "for i in range(1, len(goal)):\n",
        "  x,y = (np.where(a2 == i))\n",
        "  x_goal, y_goal = (np.where(g2 == i))\n",
        "  tots += (abs(x[0]-x_goal[0])+ abs(y[0]-y_goal[0]))\n",
        "  print(tots)\n",
        "\n"
      ],
      "execution_count": null,
      "outputs": [
        {
          "output_type": "stream",
          "text": [
            "3\n",
            "4\n",
            "6\n",
            "8\n",
            "10\n",
            "13\n",
            "16\n",
            "18\n"
          ],
          "name": "stdout"
        }
      ]
    },
    {
      "cell_type": "code",
      "metadata": {
        "id": "24NNXytlNNSf",
        "colab_type": "code",
        "colab": {
          "base_uri": "https://localhost:8080/",
          "height": 52
        },
        "outputId": "792e0a9d-7949-48eb-bba0-49aec6a988f7"
      },
      "source": [
        "front = [(0,[7,2,4,5,0,6,8,3,1]), (5,[5,6]), (2,[2,3,5,7,3,5]), (1,[100]) ]\n",
        "print(front)\n",
        "\n",
        "print(front[1])"
      ],
      "execution_count": null,
      "outputs": [
        {
          "output_type": "stream",
          "text": [
            "[(0, [7, 2, 4, 5, 0, 6, 8, 3, 1]), (5, [5, 6]), (2, [2, 3, 5, 7, 3, 5]), (1, [100])]\n",
            "(5, [5, 6])\n"
          ],
          "name": "stdout"
        }
      ]
    },
    {
      "cell_type": "code",
      "metadata": {
        "id": "L-Fjqy5GOwKX",
        "colab_type": "code",
        "colab": {
          "base_uri": "https://localhost:8080/",
          "height": 34
        },
        "outputId": "1db1d7dc-8e4e-4cff-fc63-a07680a9bf1c"
      },
      "source": [
        "def Sort_Tuple(tup):  \n",
        "  \n",
        "    # reverse = None (Sorts in Ascending order)  \n",
        "    # key is set to sort using second element of  \n",
        "    # sublist lambda has been used  \n",
        "    tup.sort(key = lambda x: x[0])  \n",
        "    return tup  \n",
        "  \n",
        "# Driver Code  \n",
        "tup = [('rishav', 10), ('akash', 5), ('ram', 20), ('gaurav', 15)]  \n",
        "  \n",
        "# printing the sorted list of tuples \n",
        "print(Sort_Tuple(front))  "
      ],
      "execution_count": null,
      "outputs": [
        {
          "output_type": "stream",
          "text": [
            "[(0, [7, 2, 4, 5, 0, 6, 8, 3, 1]), (1, [100]), (2, [2, 3, 5, 7, 3, 5]), (5, [5, 6])]\n"
          ],
          "name": "stdout"
        }
      ]
    },
    {
      "cell_type": "code",
      "metadata": {
        "id": "V0a4hlvkJaIb",
        "colab_type": "code",
        "colab": {
          "base_uri": "https://localhost:8080/",
          "height": 34
        },
        "outputId": "bb0b6412-8499-4129-e3b4-66da79d5bf81"
      },
      "source": [
        "goal = [0,1,2,3,4,5,6,7,8]\n",
        "actual = [7,2,4,5,0,6,8,3,1]\n",
        "temp = [7,2,4,5,0,4,8,3,1]\n",
        "\n",
        "import queue as Q\n",
        "import copy\n",
        "\n",
        "\n",
        "\n",
        "test = set()\n",
        "test.add(tuple(goal))\n",
        "test.add(tuple(actual))\n",
        "\n",
        "if tuple(temp) not in test:\n",
        "  print(\"nope\")\n",
        "  \n",
        "\n",
        "\n",
        "\n",
        "\n",
        "\n",
        "\n",
        "\n",
        "# front = Q.Queue()\n",
        "# front.put(actual)\n",
        "# front.put(goal)\n",
        "\n",
        "# test = Q.Queue()\n",
        "\n",
        "# while not front.empty():\n",
        "#   elem = front.get()\n",
        "#   if elem == temp:\n",
        "#     print(\"here\")\n",
        "#     test.put(elem)\n",
        "#     break\n",
        "#   else:\n",
        "#     test.put(elem)\n",
        "#     print(\"nope\")\n",
        "\n",
        "# #print(test.get())\n",
        "# front = Q.Queue()\n",
        "# front = test\n",
        "# print(front.get())"
      ],
      "execution_count": null,
      "outputs": [
        {
          "output_type": "stream",
          "text": [
            "nope\n"
          ],
          "name": "stdout"
        }
      ]
    }
  ]
}